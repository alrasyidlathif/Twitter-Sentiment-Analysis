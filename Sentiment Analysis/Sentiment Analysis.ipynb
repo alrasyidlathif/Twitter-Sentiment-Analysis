{
 "cells": [
  {
   "cell_type": "code",
   "execution_count": 115,
   "metadata": {},
   "outputs": [],
   "source": [
    "import pandas as pd"
   ]
  },
  {
   "cell_type": "code",
   "execution_count": 116,
   "metadata": {},
   "outputs": [
    {
     "data": {
      "text/html": [
       "<div>\n",
       "<style scoped>\n",
       "    .dataframe tbody tr th:only-of-type {\n",
       "        vertical-align: middle;\n",
       "    }\n",
       "\n",
       "    .dataframe tbody tr th {\n",
       "        vertical-align: top;\n",
       "    }\n",
       "\n",
       "    .dataframe thead th {\n",
       "        text-align: right;\n",
       "    }\n",
       "</style>\n",
       "<table border=\"1\" class=\"dataframe\">\n",
       "  <thead>\n",
       "    <tr style=\"text-align: right;\">\n",
       "      <th></th>\n",
       "      <th>tweets</th>\n",
       "    </tr>\n",
       "  </thead>\n",
       "  <tbody>\n",
       "    <tr>\n",
       "      <th>0</th>\n",
       "      <td>RT @TrollFootball: 4 things are certain in lif...</td>\n",
       "    </tr>\n",
       "    <tr>\n",
       "      <th>1</th>\n",
       "      <td>RT @FootyHumour: Man City to UEFA before every...</td>\n",
       "    </tr>\n",
       "    <tr>\n",
       "      <th>2</th>\n",
       "      <td>The Reds are looking to win their seventh Euro...</td>\n",
       "    </tr>\n",
       "    <tr>\n",
       "      <th>3</th>\n",
       "      <td>Eric Cantona speech: humans 'will become etern...</td>\n",
       "    </tr>\n",
       "    <tr>\n",
       "      <th>4</th>\n",
       "      <td>RT @NOT_MOTD: Man City in the UEFA offices mak...</td>\n",
       "    </tr>\n",
       "  </tbody>\n",
       "</table>\n",
       "</div>"
      ],
      "text/plain": [
       "                                              tweets\n",
       "0  RT @TrollFootball: 4 things are certain in lif...\n",
       "1  RT @FootyHumour: Man City to UEFA before every...\n",
       "2  The Reds are looking to win their seventh Euro...\n",
       "3  Eric Cantona speech: humans 'will become etern...\n",
       "4  RT @NOT_MOTD: Man City in the UEFA offices mak..."
      ]
     },
     "execution_count": 116,
     "metadata": {},
     "output_type": "execute_result"
    }
   ],
   "source": [
    "data = pd.read_csv('data_tweet_ku.csv')\n",
    "data.head()"
   ]
  },
  {
   "cell_type": "code",
   "execution_count": 117,
   "metadata": {},
   "outputs": [
    {
     "data": {
      "text/plain": [
       "(500, 1)"
      ]
     },
     "execution_count": 117,
     "metadata": {},
     "output_type": "execute_result"
    }
   ],
   "source": [
    "data.shape"
   ]
  },
  {
   "cell_type": "code",
   "execution_count": 118,
   "metadata": {},
   "outputs": [
    {
     "data": {
      "text/plain": [
       "'RT @TrollFootball: 4 things are certain in life:\\n\\n1) Death\\n2) Taxes\\n3) One boring group in the Champions League group stage.\\n4) Man City ge…'"
      ]
     },
     "execution_count": 118,
     "metadata": {},
     "output_type": "execute_result"
    }
   ],
   "source": [
    "data.iloc[0,0]"
   ]
  },
  {
   "cell_type": "code",
   "execution_count": 119,
   "metadata": {},
   "outputs": [],
   "source": [
    "data['tweets'] = data.tweets.apply(lambda tw: ' '.join(tw.split('\\n')))"
   ]
  },
  {
   "cell_type": "code",
   "execution_count": 120,
   "metadata": {
    "scrolled": true
   },
   "outputs": [
    {
     "data": {
      "text/plain": [
       "'RT @TrollFootball: 4 things are certain in life:  1) Death 2) Taxes 3) One boring group in the Champions League group stage. 4) Man City ge…'"
      ]
     },
     "execution_count": 120,
     "metadata": {},
     "output_type": "execute_result"
    }
   ],
   "source": [
    "data.iloc[0,0]"
   ]
  },
  {
   "cell_type": "code",
   "execution_count": 121,
   "metadata": {},
   "outputs": [],
   "source": [
    "import numpy as np\n",
    "import re"
   ]
  },
  {
   "cell_type": "code",
   "execution_count": 122,
   "metadata": {},
   "outputs": [],
   "source": [
    "def remove_pattern(text, pattern_regex):\n",
    "    r = re.findall(pattern_regex, text)\n",
    "    for i in r:\n",
    "        text = re.sub(i, '', text)\n",
    "    \n",
    "    return text\n",
    "# We are keeping cleaned tweets in a new column called 'tidy_tweets'\n",
    "data['clean_tweets'] = np.vectorize(remove_pattern)(data['tweets'], \"@[\\w]*: | *RT\")"
   ]
  },
  {
   "cell_type": "code",
   "execution_count": 123,
   "metadata": {},
   "outputs": [
    {
     "data": {
      "text/html": [
       "<div>\n",
       "<style scoped>\n",
       "    .dataframe tbody tr th:only-of-type {\n",
       "        vertical-align: middle;\n",
       "    }\n",
       "\n",
       "    .dataframe tbody tr th {\n",
       "        vertical-align: top;\n",
       "    }\n",
       "\n",
       "    .dataframe thead th {\n",
       "        text-align: right;\n",
       "    }\n",
       "</style>\n",
       "<table border=\"1\" class=\"dataframe\">\n",
       "  <thead>\n",
       "    <tr style=\"text-align: right;\">\n",
       "      <th></th>\n",
       "      <th>tweets</th>\n",
       "      <th>clean_tweets</th>\n",
       "    </tr>\n",
       "  </thead>\n",
       "  <tbody>\n",
       "    <tr>\n",
       "      <th>0</th>\n",
       "      <td>RT @TrollFootball: 4 things are certain in lif...</td>\n",
       "      <td>4 things are certain in life:  1) Death 2) Ta...</td>\n",
       "    </tr>\n",
       "    <tr>\n",
       "      <th>1</th>\n",
       "      <td>RT @FootyHumour: Man City to UEFA before every...</td>\n",
       "      <td>Man City to UEFA before every Champions Leagu...</td>\n",
       "    </tr>\n",
       "    <tr>\n",
       "      <th>2</th>\n",
       "      <td>The Reds are looking to win their seventh Euro...</td>\n",
       "      <td>The Reds are looking to win their seventh Euro...</td>\n",
       "    </tr>\n",
       "    <tr>\n",
       "      <th>3</th>\n",
       "      <td>Eric Cantona speech: humans 'will become etern...</td>\n",
       "      <td>Eric Cantona speech: humans 'will become etern...</td>\n",
       "    </tr>\n",
       "    <tr>\n",
       "      <th>4</th>\n",
       "      <td>RT @NOT_MOTD: Man City in the UEFA offices mak...</td>\n",
       "      <td>Man City in the UEFA offices making sure they...</td>\n",
       "    </tr>\n",
       "  </tbody>\n",
       "</table>\n",
       "</div>"
      ],
      "text/plain": [
       "                                              tweets  \\\n",
       "0  RT @TrollFootball: 4 things are certain in lif...   \n",
       "1  RT @FootyHumour: Man City to UEFA before every...   \n",
       "2  The Reds are looking to win their seventh Euro...   \n",
       "3  Eric Cantona speech: humans 'will become etern...   \n",
       "4  RT @NOT_MOTD: Man City in the UEFA offices mak...   \n",
       "\n",
       "                                        clean_tweets  \n",
       "0   4 things are certain in life:  1) Death 2) Ta...  \n",
       "1   Man City to UEFA before every Champions Leagu...  \n",
       "2  The Reds are looking to win their seventh Euro...  \n",
       "3  Eric Cantona speech: humans 'will become etern...  \n",
       "4   Man City in the UEFA offices making sure they...  "
      ]
     },
     "execution_count": 123,
     "metadata": {},
     "output_type": "execute_result"
    }
   ],
   "source": [
    "data.head()"
   ]
  },
  {
   "cell_type": "code",
   "execution_count": 124,
   "metadata": {},
   "outputs": [],
   "source": [
    "cleaned_tweets = []\n",
    "\n",
    "for index, row in data.iterrows():\n",
    "    # Here we are filtering out all the words that contains link\n",
    "    words_without_links = [word for word in row.clean_tweets.split() if 'http' not in word]\n",
    "    cleaned_tweets.append(' '.join(words_without_links))\n",
    "\n",
    "data['clean_tweets'] = cleaned_tweets"
   ]
  },
  {
   "cell_type": "code",
   "execution_count": 125,
   "metadata": {},
   "outputs": [
    {
     "data": {
      "text/html": [
       "<div>\n",
       "<style scoped>\n",
       "    .dataframe tbody tr th:only-of-type {\n",
       "        vertical-align: middle;\n",
       "    }\n",
       "\n",
       "    .dataframe tbody tr th {\n",
       "        vertical-align: top;\n",
       "    }\n",
       "\n",
       "    .dataframe thead th {\n",
       "        text-align: right;\n",
       "    }\n",
       "</style>\n",
       "<table border=\"1\" class=\"dataframe\">\n",
       "  <thead>\n",
       "    <tr style=\"text-align: right;\">\n",
       "      <th></th>\n",
       "      <th>tweets</th>\n",
       "      <th>clean_tweets</th>\n",
       "    </tr>\n",
       "  </thead>\n",
       "  <tbody>\n",
       "    <tr>\n",
       "      <th>0</th>\n",
       "      <td>RT @TrollFootball: 4 things are certain in lif...</td>\n",
       "      <td>4 things are certain in life: 1) Death 2) Taxe...</td>\n",
       "    </tr>\n",
       "    <tr>\n",
       "      <th>1</th>\n",
       "      <td>RT @FootyHumour: Man City to UEFA before every...</td>\n",
       "      <td>Man City to UEFA before every Champions League...</td>\n",
       "    </tr>\n",
       "    <tr>\n",
       "      <th>2</th>\n",
       "      <td>The Reds are looking to win their seventh Euro...</td>\n",
       "      <td>The Reds are looking to win their seventh Euro...</td>\n",
       "    </tr>\n",
       "    <tr>\n",
       "      <th>3</th>\n",
       "      <td>Eric Cantona speech: humans 'will become etern...</td>\n",
       "      <td>Eric Cantona speech: humans 'will become etern...</td>\n",
       "    </tr>\n",
       "    <tr>\n",
       "      <th>4</th>\n",
       "      <td>RT @NOT_MOTD: Man City in the UEFA offices mak...</td>\n",
       "      <td>Man City in the UEFA offices making sure they ...</td>\n",
       "    </tr>\n",
       "  </tbody>\n",
       "</table>\n",
       "</div>"
      ],
      "text/plain": [
       "                                              tweets  \\\n",
       "0  RT @TrollFootball: 4 things are certain in lif...   \n",
       "1  RT @FootyHumour: Man City to UEFA before every...   \n",
       "2  The Reds are looking to win their seventh Euro...   \n",
       "3  Eric Cantona speech: humans 'will become etern...   \n",
       "4  RT @NOT_MOTD: Man City in the UEFA offices mak...   \n",
       "\n",
       "                                        clean_tweets  \n",
       "0  4 things are certain in life: 1) Death 2) Taxe...  \n",
       "1  Man City to UEFA before every Champions League...  \n",
       "2  The Reds are looking to win their seventh Euro...  \n",
       "3  Eric Cantona speech: humans 'will become etern...  \n",
       "4  Man City in the UEFA offices making sure they ...  "
      ]
     },
     "execution_count": 125,
     "metadata": {},
     "output_type": "execute_result"
    }
   ],
   "source": [
    "data.head()"
   ]
  },
  {
   "cell_type": "code",
   "execution_count": null,
   "metadata": {},
   "outputs": [],
   "source": []
  }
 ],
 "metadata": {
  "kernelspec": {
   "display_name": "Python 3",
   "language": "python",
   "name": "python3"
  },
  "language_info": {
   "codemirror_mode": {
    "name": "ipython",
    "version": 3
   },
   "file_extension": ".py",
   "mimetype": "text/x-python",
   "name": "python",
   "nbconvert_exporter": "python",
   "pygments_lexer": "ipython3",
   "version": "3.4.3"
  }
 },
 "nbformat": 4,
 "nbformat_minor": 2
}
