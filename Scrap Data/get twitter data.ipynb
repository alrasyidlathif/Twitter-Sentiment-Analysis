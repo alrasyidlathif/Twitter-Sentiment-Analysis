{
 "cells": [
  {
   "cell_type": "code",
   "execution_count": 78,
   "metadata": {},
   "outputs": [],
   "source": [
    "#!pip3 install tweepy\n",
    "import re\n",
    "import tweepy\n",
    "from tweepy import OAuthHandler\n",
    "import pandas as pd"
   ]
  },
  {
   "cell_type": "code",
   "execution_count": 79,
   "metadata": {},
   "outputs": [],
   "source": [
    "class TwitterClient(object):\n",
    "    \n",
    "    # inisialisasi\n",
    "    def __init__(self):\n",
    "    \n",
    "        consumer_key = 'API key'\n",
    "        consumer_secret = 'API secret key'\n",
    "        access_token = 'Access token'\n",
    "        access_secret = 'Access token secret'\n",
    "    \n",
    "        try:\n",
    "            self.auth = OAuthHandler(consumer_key, consumer_secret)\n",
    "            self.auth.set_access_token(access_token,access_secret)\n",
    "            self.api = tweepy.API(self.auth, wait_on_rate_limit=True, wait_on_rate_limit_notify=True)\n",
    "        except:\n",
    "            print(\"auth error\")\n",
    "      \n",
    "\n",
    "    # get tweet\n",
    "    def gettweet(self, query, minTweet):\n",
    "        tweets = []\n",
    "\n",
    "        tweetCount = 0\n",
    "        tweetPerQry = 100\n",
    "        \n",
    "        while tweetCount < minTweet:\n",
    "            try:\n",
    "                fetch_tweet = self.api.search(q=query, count=tweetPerQry)\n",
    "                for tweet in fetch_tweet:\n",
    "                    parsed_tweet = tweet.text\n",
    "                    #tweets.append(parsed_tweet)\n",
    "                    if tweet.retweet_count > 0:\n",
    "                        if parsed_tweet not in tweets:\n",
    "                            tweets.append(parsed_tweet)\n",
    "                    else:\n",
    "                        tweets.append(parsed_tweet)\n",
    "\n",
    "                tweetCount = len(tweets)\n",
    "                #return tweets\n",
    "\n",
    "            except tweepy.TweepError as e:\n",
    "                print('Error',str(e))\n",
    "    \n",
    "        return tweets"
   ]
  },
  {
   "cell_type": "code",
   "execution_count": 80,
   "metadata": {},
   "outputs": [],
   "source": [
    "def main(keyword,n):\n",
    "  \n",
    "    api = TwitterClient()\n",
    "    tweets = api.gettweet(query=keyword,minTweet=n)\n",
    "    \n",
    "    data = pd.DataFrame({\n",
    "        'tweets':tweets\n",
    "    })\n",
    "    \n",
    "    return data"
   ]
  },
  {
   "cell_type": "code",
   "execution_count": 81,
   "metadata": {},
   "outputs": [],
   "source": [
    "data_tweet = main('champions league draw',500)"
   ]
  },
  {
   "cell_type": "code",
   "execution_count": 82,
   "metadata": {},
   "outputs": [],
   "source": [
    "data_tweet.to_csv('data_tweet_ku.csv', index=False, encoding='utf-8')"
   ]
  },
  {
   "cell_type": "code",
   "execution_count": 83,
   "metadata": {},
   "outputs": [
    {
     "data": {
      "text/html": [
       "<div>\n",
       "<style scoped>\n",
       "    .dataframe tbody tr th:only-of-type {\n",
       "        vertical-align: middle;\n",
       "    }\n",
       "\n",
       "    .dataframe tbody tr th {\n",
       "        vertical-align: top;\n",
       "    }\n",
       "\n",
       "    .dataframe thead th {\n",
       "        text-align: right;\n",
       "    }\n",
       "</style>\n",
       "<table border=\"1\" class=\"dataframe\">\n",
       "  <thead>\n",
       "    <tr style=\"text-align: right;\">\n",
       "      <th></th>\n",
       "      <th>tweets</th>\n",
       "    </tr>\n",
       "  </thead>\n",
       "  <tbody>\n",
       "    <tr>\n",
       "      <th>0</th>\n",
       "      <td>RT @TrollFootball: 4 things are certain in lif...</td>\n",
       "    </tr>\n",
       "    <tr>\n",
       "      <th>1</th>\n",
       "      <td>RT @FootyHumour: Man City to UEFA before every...</td>\n",
       "    </tr>\n",
       "    <tr>\n",
       "      <th>2</th>\n",
       "      <td>The Reds are looking to win their seventh Euro...</td>\n",
       "    </tr>\n",
       "    <tr>\n",
       "      <th>3</th>\n",
       "      <td>Eric Cantona speech: humans 'will become etern...</td>\n",
       "    </tr>\n",
       "    <tr>\n",
       "      <th>4</th>\n",
       "      <td>RT @NOT_MOTD: Man City in the UEFA offices mak...</td>\n",
       "    </tr>\n",
       "  </tbody>\n",
       "</table>\n",
       "</div>"
      ],
      "text/plain": [
       "                                              tweets\n",
       "0  RT @TrollFootball: 4 things are certain in lif...\n",
       "1  RT @FootyHumour: Man City to UEFA before every...\n",
       "2  The Reds are looking to win their seventh Euro...\n",
       "3  Eric Cantona speech: humans 'will become etern...\n",
       "4  RT @NOT_MOTD: Man City in the UEFA offices mak..."
      ]
     },
     "execution_count": 83,
     "metadata": {},
     "output_type": "execute_result"
    }
   ],
   "source": [
    "data_tweet.head()"
   ]
  },
  {
   "cell_type": "code",
   "execution_count": 84,
   "metadata": {},
   "outputs": [
    {
     "data": {
      "text/plain": [
       "(500, 1)"
      ]
     },
     "execution_count": 84,
     "metadata": {},
     "output_type": "execute_result"
    }
   ],
   "source": [
    "data_tweet.shape"
   ]
  },
  {
   "cell_type": "code",
   "execution_count": null,
   "metadata": {},
   "outputs": [],
   "source": []
  }
 ],
 "metadata": {
  "kernelspec": {
   "display_name": "Python 3",
   "language": "python",
   "name": "python3"
  },
  "language_info": {
   "codemirror_mode": {
    "name": "ipython",
    "version": 3
   },
   "file_extension": ".py",
   "mimetype": "text/x-python",
   "name": "python",
   "nbconvert_exporter": "python",
   "pygments_lexer": "ipython3",
   "version": "3.4.3"
  }
 },
 "nbformat": 4,
 "nbformat_minor": 2
}
