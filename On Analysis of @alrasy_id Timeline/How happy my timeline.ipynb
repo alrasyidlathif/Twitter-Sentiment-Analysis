{
 "cells": [
  {
   "cell_type": "code",
   "execution_count": 80,
   "metadata": {},
   "outputs": [],
   "source": [
    "import tweepy"
   ]
  },
  {
   "cell_type": "code",
   "execution_count": 81,
   "metadata": {},
   "outputs": [],
   "source": [
    "consumer_key = ''\n",
    "consumer_secret = ''\n",
    "access_token = ''\n",
    "access_secret = ''"
   ]
  },
  {
   "cell_type": "code",
   "execution_count": 82,
   "metadata": {},
   "outputs": [],
   "source": [
    "auth = tweepy.OAuthHandler(consumer_key, consumer_secret)\n",
    "auth.set_access_token(access_token, access_secret)"
   ]
  },
  {
   "cell_type": "code",
   "execution_count": 83,
   "metadata": {},
   "outputs": [],
   "source": [
    "api = tweepy.API(auth)"
   ]
  },
  {
   "cell_type": "code",
   "execution_count": 98,
   "metadata": {},
   "outputs": [],
   "source": [
    "# 04/09/2019 12.49 WIB\n",
    "max_tweets = 500\n",
    "public_tweets = api.home_timeline(count=max_tweets)"
   ]
  },
  {
   "cell_type": "code",
   "execution_count": 99,
   "metadata": {
    "scrolled": false
   },
   "outputs": [],
   "source": [
    "tweets = []\n",
    "for tweet in public_tweets:\n",
    "    tweets.append(tweet.text)"
   ]
  },
  {
   "cell_type": "code",
   "execution_count": 100,
   "metadata": {},
   "outputs": [
    {
     "data": {
      "text/plain": [
       "199"
      ]
     },
     "execution_count": 100,
     "metadata": {},
     "output_type": "execute_result"
    }
   ],
   "source": [
    "len(tweets)"
   ]
  },
  {
   "cell_type": "code",
   "execution_count": 112,
   "metadata": {},
   "outputs": [],
   "source": [
    "import emoji\n",
    "daftar_emot = emoji.UNICODE_EMOJI\n",
    "# https://emojipedia.org/people/"
   ]
  },
  {
   "cell_type": "code",
   "execution_count": 113,
   "metadata": {},
   "outputs": [],
   "source": [
    "#HappyEmoticons\n",
    "emoticons_happy = set(\n",
    "    ['😀','😃','😄','😁','😆','😅','🤣','😂','🙂','😊','😇','🥰','😍','☺️','😙','😎','😌']\n",
    ")"
   ]
  },
  {
   "cell_type": "code",
   "execution_count": 114,
   "metadata": {},
   "outputs": [],
   "source": [
    "# Sad Emoticons\n",
    "emoticons_sad = set(\n",
    "    ['😞','😭','😢','😥','😰','😨','😧','☹️','😟','😔','😒','😑','😡','😠','😓','😣','😞','😩','😫']\n",
    ")"
   ]
  },
  {
   "cell_type": "code",
   "execution_count": 121,
   "metadata": {},
   "outputs": [],
   "source": [
    "def how_happy(tweet,list_happy_emot,list_sad_emot):\n",
    "    happy_emot = 0\n",
    "    sad_emot = 0\n",
    "    for c in tweet:\n",
    "        if c in emoticons_happy:\n",
    "            happy_emot += 1\n",
    "            list_happy_emot.append(c)\n",
    "        if c in emoticons_sad:\n",
    "            sad_emot += 1\n",
    "            list_sad_emot.append(c)\n",
    "    return happy_emot, sad_emot, list_happy_emot, list_sad_emot"
   ]
  },
  {
   "cell_type": "code",
   "execution_count": 122,
   "metadata": {},
   "outputs": [],
   "source": [
    "n_happy = 0\n",
    "n_sad = 0\n",
    "list_happy_emot = []\n",
    "list_sad_emot = []\n",
    "for tweet in tweets:\n",
    "    h, s, list_happy_emot, list_sad_emot = how_happy(tweet,list_happy_emot,list_sad_emot)\n",
    "    n_happy += h\n",
    "    n_sad += s"
   ]
  },
  {
   "cell_type": "code",
   "execution_count": 124,
   "metadata": {},
   "outputs": [
    {
     "name": "stdout",
     "output_type": "stream",
     "text": [
      "From 199 tweets\n",
      "How happy my timeline is? there is 22 happy emoticons\n",
      "How sad my timeline is? there is 1 happy emoticons\n"
     ]
    }
   ],
   "source": [
    "print('From', str(len(tweets)), 'tweets')\n",
    "print('How happy my timeline is? there is', str(n_happy), 'happy emoticons')\n",
    "print('How sad my timeline is? there is', str(n_sad), 'happy emoticons')"
   ]
  },
  {
   "cell_type": "code",
   "execution_count": 130,
   "metadata": {},
   "outputs": [
    {
     "name": "stdout",
     "output_type": "stream",
     "text": [
      "happy emot used:\n",
      "🤣 :rolling_on_the_floor_laughing:\n",
      "🤣 :rolling_on_the_floor_laughing:\n",
      "🤣 :rolling_on_the_floor_laughing:\n",
      "🤣 :rolling_on_the_floor_laughing:\n",
      "😌 :relieved_face:\n",
      "😂 :face_with_tears_of_joy:\n",
      "😊 :smiling_face_with_smiling_eyes:\n",
      "😊 :smiling_face_with_smiling_eyes:\n",
      "😊 :smiling_face_with_smiling_eyes:\n",
      "😊 :smiling_face_with_smiling_eyes:\n",
      "😂 :face_with_tears_of_joy:\n",
      "😂 :face_with_tears_of_joy:\n",
      "😂 :face_with_tears_of_joy:\n",
      "😁 :beaming_face_with_smiling_eyes:\n",
      "😂 :face_with_tears_of_joy:\n",
      "🤣 :rolling_on_the_floor_laughing:\n",
      "🤣 :rolling_on_the_floor_laughing:\n",
      "😂 :face_with_tears_of_joy:\n",
      "😁 :beaming_face_with_smiling_eyes:\n",
      "😂 :face_with_tears_of_joy:\n",
      "😂 :face_with_tears_of_joy:\n",
      "😂 :face_with_tears_of_joy:\n"
     ]
    }
   ],
   "source": [
    "print('happy emot used:')\n",
    "for em in list_happy_emot:\n",
    "    print(em, daftar_emot[em])"
   ]
  },
  {
   "cell_type": "code",
   "execution_count": 131,
   "metadata": {},
   "outputs": [
    {
     "name": "stdout",
     "output_type": "stream",
     "text": [
      "happy emot used:\n",
      "😭 :loudly_crying_face:\n"
     ]
    }
   ],
   "source": [
    "print('happy emot used:')\n",
    "for em in list_sad_emot:\n",
    "    print(em, daftar_emot[em])"
   ]
  },
  {
   "cell_type": "code",
   "execution_count": null,
   "metadata": {},
   "outputs": [],
   "source": []
  }
 ],
 "metadata": {
  "kernelspec": {
   "display_name": "Python 3",
   "language": "python",
   "name": "python3"
  },
  "language_info": {
   "codemirror_mode": {
    "name": "ipython",
    "version": 3
   },
   "file_extension": ".py",
   "mimetype": "text/x-python",
   "name": "python",
   "nbconvert_exporter": "python",
   "pygments_lexer": "ipython3",
   "version": "3.4.3"
  }
 },
 "nbformat": 4,
 "nbformat_minor": 2
}
